{
 "cells": [
  {
   "cell_type": "code",
   "execution_count": 1,
   "id": "1d7e5d81",
   "metadata": {},
   "outputs": [
    {
     "name": "stdout",
     "output_type": "stream",
     "text": [
      "Requirement already satisfied: pymongo in c:\\users\\antun\\anaconda3\\lib\\site-packages (4.0.1)\n"
     ]
    }
   ],
   "source": [
    "!pip install pymongo"
   ]
  },
  {
   "cell_type": "code",
   "execution_count": 2,
   "id": "cb706f8e",
   "metadata": {},
   "outputs": [],
   "source": [
    "import pymongo"
   ]
  },
  {
   "cell_type": "code",
   "execution_count": 3,
   "id": "77c83cac",
   "metadata": {},
   "outputs": [],
   "source": [
    "from pymongo import MongoClient"
   ]
  },
  {
   "cell_type": "code",
   "execution_count": 4,
   "id": "15980f16",
   "metadata": {},
   "outputs": [],
   "source": [
    "client = MongoClient('localhost', 27017)"
   ]
  },
  {
   "cell_type": "code",
   "execution_count": 5,
   "id": "70c227ff",
   "metadata": {},
   "outputs": [],
   "source": [
    "db = client['appdb']"
   ]
  },
  {
   "cell_type": "code",
   "execution_count": 6,
   "id": "5a144f32",
   "metadata": {
    "scrolled": true
   },
   "outputs": [
    {
     "data": {
      "text/plain": [
       "Database(MongoClient(host=['localhost:27017'], document_class=dict, tz_aware=False, connect=True), 'appdb')"
      ]
     },
     "execution_count": 6,
     "metadata": {},
     "output_type": "execute_result"
    }
   ],
   "source": [
    "db"
   ]
  },
  {
   "cell_type": "code",
   "execution_count": 7,
   "id": "df779a16",
   "metadata": {},
   "outputs": [
    {
     "data": {
      "text/plain": [
       "<pymongo.cursor.Cursor at 0x1ead7d79340>"
      ]
     },
     "execution_count": 7,
     "metadata": {},
     "output_type": "execute_result"
    }
   ],
   "source": [
    "db.piva.find()"
   ]
  },
  {
   "cell_type": "code",
   "execution_count": 8,
   "id": "c12e447f",
   "metadata": {},
   "outputs": [],
   "source": [
    "collection = db.piva"
   ]
  },
  {
   "cell_type": "code",
   "execution_count": 9,
   "id": "165960d5",
   "metadata": {},
   "outputs": [
    {
     "data": {
      "text/plain": [
       "<pymongo.cursor.Cursor at 0x1ead7d5c8e0>"
      ]
     },
     "execution_count": 9,
     "metadata": {},
     "output_type": "execute_result"
    }
   ],
   "source": [
    "collection.find()"
   ]
  },
  {
   "cell_type": "code",
   "execution_count": 10,
   "id": "f0c88592",
   "metadata": {},
   "outputs": [
    {
     "name": "stdout",
     "output_type": "stream",
     "text": [
      "{'_id': ObjectId('61c0bb75bcad423ffdac12ca'), 'name': 'Buzz', 'tagline': 'A Real Bitter Experience', 'first_brewed': '09/2007', 'abv': 4.5, 'ph': 4.4, 'volume': {'value': 20, 'unit': 'litres'}, 'boil_volume': {'value': 25, 'unit': 'litres'}, 'ingredients': {'malt': [{'name': 'maris Otter Extra Pale', 'amount': {'value': 3.3, 'unit': 'kilograms'}}, {'name': 'Caramalt', 'amount': {'value': 0.2, 'unit': 'kilograms'}}, {'name': 'Munich', 'amount': {'value': 0.4, 'unit': 'kilograms'}}], 'hops': [{'name': 'Fuggles', 'amount': {'value': 25, 'unit': 'grams'}, 'add': 'start', 'attribute': 'bitter'}, {'name': 'First Gold', 'amount': {'value': 25, 'unit': 'grams'}, 'add': 'start', 'attribute': 'bitter'}, {'name': 'Fuggles', 'amount': {'value': 37.5, 'unit': 'grams'}, 'add': 'middle', 'attribute': 'flavour'}, {'name': 'First Gold', 'amount': {'value': 37.5, 'unit': 'grams'}, 'add': 'middle', 'attribute': 'flavour'}, {'name': 'Cascade', 'amount': {'value': 37.5, 'unit': 'grams'}, 'add': 'end', 'attribute': 'flavour'}], 'yeast': 'Wyeast 1056 - American Ale'}}\n",
      "{'_id': ObjectId('61c0c778bcad423ffdac12cb'), 'name': 'Trashy Blonde', 'tagline': \"You Know You Shouldn't\", 'first_brewed': '04/2008', 'abv': 4.1, 'ph': 4.4, 'volume': {'value': 20, 'unit': 'litres'}, 'boil_volume': {'value': 25, 'unit': 'litres'}, 'ingredients': {'malt': [{'name': 'Maris Otter Extra Pale', 'amount': {'value': 3.25, 'unit': 'kilograms'}}, {'name': 'Caramalt', 'amount': {'value': 0.2, 'unit': 'kilograms'}}, {'name': 'Munich', 'amount': {'value': 0.4, 'unit': 'kilograms'}}], 'hops': [{'name': 'Amarillo', 'amount': {'value': 13.8, 'unit': 'grams'}, 'add': 'start', 'attribute': 'bitter'}, {'name': 'Simcoe', 'amount': {'value': 13.8, 'unit': 'grams'}, 'add': 'start', 'attribute': 'bitter'}, {'name': 'Amarillo', 'amount': {'value': 26.3, 'unit': 'grams'}, 'add': 'end', 'attribute': 'flavour'}, {'name': 'Motueka', 'amount': {'value': 18.8, 'unit': 'grams'}, 'add': 'end', 'attribute': 'flavour'}], 'yeast': 'Wyeast 1056 - American Ale'}}\n",
      "{'_id': ObjectId('61c0c8a7bcad423ffdac12cc'), 'name': 'Berliner Weisse With Yuzu - B-Sides', 'tagline': 'Japanese Citrus Berliner Weisse.', 'first_brewed': '11/2015', 'abv': 4.2, 'ph': 3.2, 'volume': {'value': 20, 'unit': 'litres'}, 'boil_volume': {'value': 25, 'unit': 'litres'}, 'ingredients': {'malt': [{'name': 'Propino Pale Malt', 'amount': {'value': 1.63, 'unit': 'kilograms'}}, {'name': 'Wheat Malt', 'amount': {'value': 1.63, 'unit': 'kilograms'}}, {'name': 'Propino Pale Malt for kettle souring', 'amount': {'value': 0.03, 'unit': 'kilograms'}}, {'name': 'Acidulated Malt for kettle souring', 'amount': {'value': 10, 'unit': 'kilograms'}}], 'hops': [{'name': 'Bramling Cross', 'amount': {'value': 10, 'unit': 'grams'}, 'add': 'middle', 'attribute': 'bitter'}], 'yeast': 'Wyeast 1056 - American Ale'}}\n"
     ]
    }
   ],
   "source": [
    "for i in collection.find():\n",
    "    print(i)"
   ]
  },
  {
   "cell_type": "code",
   "execution_count": 16,
   "id": "1733644a",
   "metadata": {},
   "outputs": [
    {
     "name": "stdout",
     "output_type": "stream",
     "text": [
      "{'_id': ObjectId('61c0bb75bcad423ffdac12ca'), 'name': 'Buzz', 'tagline': 'A Real Bitter Experience', 'first_brewed': '09/2007', 'abv': 4.5, 'ph': 4.4, 'volume': {'value': 20, 'unit': 'litres'}, 'boil_volume': {'value': 25, 'unit': 'litres'}, 'ingredients': {'malt': [{'name': 'maris Otter Extra Pale', 'amount': {'value': 3.3, 'unit': 'kilograms'}}, {'name': 'Caramalt', 'amount': {'value': 0.2, 'unit': 'kilograms'}}, {'name': 'Munich', 'amount': {'value': 0.4, 'unit': 'kilograms'}}], 'hops': [{'name': 'Fuggles', 'amount': {'value': 25, 'unit': 'grams'}, 'add': 'start', 'attribute': 'bitter'}, {'name': 'First Gold', 'amount': {'value': 25, 'unit': 'grams'}, 'add': 'start', 'attribute': 'bitter'}, {'name': 'Fuggles', 'amount': {'value': 37.5, 'unit': 'grams'}, 'add': 'middle', 'attribute': 'flavour'}, {'name': 'First Gold', 'amount': {'value': 37.5, 'unit': 'grams'}, 'add': 'middle', 'attribute': 'flavour'}, {'name': 'Cascade', 'amount': {'value': 37.5, 'unit': 'grams'}, 'add': 'end', 'attribute': 'flavour'}], 'yeast': 'Wyeast 1056 - American Ale'}}\n"
     ]
    }
   ],
   "source": [
    "for i in collection.find({\"abv\": 4.5}):\n",
    "    print(i)"
   ]
  },
  {
   "cell_type": "code",
   "execution_count": 18,
   "id": "c251e707",
   "metadata": {},
   "outputs": [
    {
     "data": {
      "text/plain": [
       "3"
      ]
     },
     "execution_count": 18,
     "metadata": {},
     "output_type": "execute_result"
    }
   ],
   "source": [
    "collection.count_documents({})"
   ]
  },
  {
   "cell_type": "code",
   "execution_count": 20,
   "id": "37cac261",
   "metadata": {},
   "outputs": [
    {
     "name": "stdout",
     "output_type": "stream",
     "text": [
      "{'name': 'Buzz', 'tagline': 'A Real Bitter Experience', 'abv': 4.5, 'ph': 4.4, 'volume': {'value': 20, 'unit': 'litres'}}\n"
     ]
    }
   ],
   "source": [
    "for pivo in collection.find({\"abv\":4.5}, {\"name\":1, \"abv\":1, \"ph\":1, \"tagline\":1, \"volume\":1, \"_id\":0}):\n",
    "    print(pivo)"
   ]
  },
  {
   "cell_type": "code",
   "execution_count": 24,
   "id": "ee2f7cdf",
   "metadata": {
    "scrolled": true
   },
   "outputs": [
    {
     "name": "stdout",
     "output_type": "stream",
     "text": [
      "{'name': 'Buzz', 'tagline': 'A Real Bitter Experience', 'abv': 4.5, 'ph': 4.4, 'volume': {'value': 20, 'unit': 'litres'}}\n",
      "{'name': 'Berliner Weisse With Yuzu - B-Sides', 'tagline': 'Japanese Citrus Berliner Weisse.', 'abv': 4.2, 'ph': 3.2, 'volume': {'value': 20, 'unit': 'litres'}}\n"
     ]
    }
   ],
   "source": [
    "for i in collection.find({\"abv\": {\"$gte\":4.2}}, {\"name\":1, \"abv\":1, \"ph\":1, \"tagline\":1, \"volume\":1, \"_id\":0}):\n",
    "    print(i)"
   ]
  },
  {
   "cell_type": "code",
   "execution_count": 28,
   "id": "581ea2ca",
   "metadata": {},
   "outputs": [
    {
     "name": "stdout",
     "output_type": "stream",
     "text": [
      "{'name': 'Buzz', 'abv': 4.5, 'volume': {'value': 20}}\n",
      "{'name': 'Berliner Weisse With Yuzu - B-Sides', 'abv': 4.2, 'volume': {'value': 20}}\n"
     ]
    }
   ],
   "source": [
    "for pivo in collection.find({\"abv\":{\"$gte\":4.2}}, {\"_id\":0, \"volume.value\":1, \"name\":1, \"abv\":1}):\n",
    "    print(pivo)"
   ]
  },
  {
   "cell_type": "code",
   "execution_count": 31,
   "id": "8e909239",
   "metadata": {},
   "outputs": [
    {
     "name": "stdout",
     "output_type": "stream",
     "text": [
      "{'name': 'Buzz', 'boil_volume': {'value': 25}}\n",
      "{'name': 'Berliner Weisse With Yuzu - B-Sides', 'boil_volume': {'value': 25}}\n"
     ]
    }
   ],
   "source": [
    "for pivo in collection.find({\"name\":{\"$regex\":\"^B\"}, \"boil_volume.value\":{\"$gt\":20}}, \n",
    "                            {\"_id\":0, \"boil_volume.value\":1, \"name\":1}):\n",
    "    print(pivo)"
   ]
  },
  {
   "cell_type": "code",
   "execution_count": 35,
   "id": "65479b02",
   "metadata": {},
   "outputs": [
    {
     "name": "stdout",
     "output_type": "stream",
     "text": [
      "{'name': 'Berliner Weisse With Yuzu - B-Sides', 'ingredients': {'hops': [{'name': 'Bramling Cross'}]}}\n"
     ]
    }
   ],
   "source": [
    "for pivo in collection.find({\"ingredients.hops.attribute\":\"bitter\", \"ingredients.hops.attribute\":{\"$ne\":\"flavour\"}}, \n",
    "                            {\"name\":1, \"ingredients.hops.name\":1, \"_id\":0}):\n",
    "    print(pivo)"
   ]
  },
  {
   "cell_type": "code",
   "execution_count": null,
   "id": "ac896200",
   "metadata": {},
   "outputs": [],
   "source": []
  },
  {
   "cell_type": "code",
   "execution_count": null,
   "id": "f7dd5b2e",
   "metadata": {},
   "outputs": [],
   "source": []
  },
  {
   "cell_type": "code",
   "execution_count": 61,
   "id": "7029c86b",
   "metadata": {},
   "outputs": [
    {
     "ename": "TypeError",
     "evalue": "'Collection' object is not callable. If you meant to call the 'map_reduce' method on a 'Collection' object it is failing because no such method exists.",
     "output_type": "error",
     "traceback": [
      "\u001b[1;31m---------------------------------------------------------------------------\u001b[0m",
      "\u001b[1;31mTypeError\u001b[0m                                 Traceback (most recent call last)",
      "\u001b[1;32m<ipython-input-61-44f6a67ca692>\u001b[0m in \u001b[0;36m<module>\u001b[1;34m\u001b[0m\n\u001b[0;32m      6\u001b[0m              \u001b[1;34m\"return Array.sum(values)\"\u001b[0m\u001b[1;33m\u001b[0m\u001b[1;33m\u001b[0m\u001b[0m\n\u001b[0;32m      7\u001b[0m              \"}\")\n\u001b[1;32m----> 8\u001b[1;33m \u001b[0mupit\u001b[0m \u001b[1;33m=\u001b[0m \u001b[0mcollection\u001b[0m\u001b[1;33m.\u001b[0m\u001b[0mmap_reduce\u001b[0m\u001b[1;33m(\u001b[0m\u001b[0mmap\u001b[0m\u001b[1;33m,\u001b[0m \u001b[0mreduce\u001b[0m\u001b[1;33m,\u001b[0m \u001b[1;34m\"rezultat\"\u001b[0m\u001b[1;33m)\u001b[0m\u001b[1;33m\u001b[0m\u001b[1;33m\u001b[0m\u001b[0m\n\u001b[0m\u001b[0;32m      9\u001b[0m \u001b[1;32mfor\u001b[0m \u001b[0mi\u001b[0m \u001b[1;32min\u001b[0m \u001b[0mupit\u001b[0m\u001b[1;33m.\u001b[0m\u001b[0mfind\u001b[0m\u001b[1;33m(\u001b[0m\u001b[1;33m)\u001b[0m\u001b[1;33m:\u001b[0m\u001b[1;33m\u001b[0m\u001b[1;33m\u001b[0m\u001b[0m\n\u001b[0;32m     10\u001b[0m     \u001b[0mprint\u001b[0m\u001b[1;33m(\u001b[0m\u001b[0mi\u001b[0m\u001b[1;33m)\u001b[0m\u001b[1;33m\u001b[0m\u001b[1;33m\u001b[0m\u001b[0m\n",
      "\u001b[1;32m~\\anaconda3\\lib\\site-packages\\pymongo\\collection.py\u001b[0m in \u001b[0;36m__call__\u001b[1;34m(self, *args, **kwargs)\u001b[0m\n\u001b[0;32m   2582\u001b[0m                             \u001b[1;34m\"exists.\"\u001b[0m \u001b[1;33m%\u001b[0m\u001b[1;33m\u001b[0m\u001b[1;33m\u001b[0m\u001b[0m\n\u001b[0;32m   2583\u001b[0m                             self.__name)\n\u001b[1;32m-> 2584\u001b[1;33m         raise TypeError(\"'Collection' object is not callable. If you meant to \"\n\u001b[0m\u001b[0;32m   2585\u001b[0m                         \u001b[1;34m\"call the '%s' method on a 'Collection' object it is \"\u001b[0m\u001b[1;33m\u001b[0m\u001b[1;33m\u001b[0m\u001b[0m\n\u001b[0;32m   2586\u001b[0m                         \u001b[1;34m\"failing because no such method exists.\"\u001b[0m \u001b[1;33m%\u001b[0m\u001b[1;33m\u001b[0m\u001b[1;33m\u001b[0m\u001b[0m\n",
      "\u001b[1;31mTypeError\u001b[0m: 'Collection' object is not callable. If you meant to call the 'map_reduce' method on a 'Collection' object it is failing because no such method exists."
     ]
    }
   ],
   "source": [
    "from bson.code import Code\n",
    "map = Code(\"function() {\"\n",
    "           \" emit( this.ph, this.abv );\"\n",
    "           \"}\")\n",
    "reduce = Code(\"function(key, values) {\"\n",
    "             \"return Array.sum(values)\"\n",
    "             \"}\")\n",
    "upit = collection.map_reduce(map, reduce, \"rezultat\")\n",
    "for i in upit.find():\n",
    "    print(i)"
   ]
  },
  {
   "cell_type": "code",
   "execution_count": null,
   "id": "889f1e0d",
   "metadata": {},
   "outputs": [],
   "source": []
  }
 ],
 "metadata": {
  "kernelspec": {
   "display_name": "Python 3",
   "language": "python",
   "name": "python3"
  },
  "language_info": {
   "codemirror_mode": {
    "name": "ipython",
    "version": 3
   },
   "file_extension": ".py",
   "mimetype": "text/x-python",
   "name": "python",
   "nbconvert_exporter": "python",
   "pygments_lexer": "ipython3",
   "version": "3.8.8"
  }
 },
 "nbformat": 4,
 "nbformat_minor": 5
}
